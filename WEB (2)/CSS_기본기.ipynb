{
 "cells": [
  {
   "attachments": {},
   "cell_type": "markdown",
   "metadata": {},
   "source": [
    "[CSS 원칙]\n",
    "1. 모든 요소는 네모(박스 모델), 위에서부터 아래로, 왼쪽에서 오른쪽으로 쌓인다. \n",
    "(좌측 상단에 배치-normal flow ???)\n",
    "\n",
    "[Box model]\n",
    "모든 HTML 요소는 box 형태로 되어있음\n",
    "하나의 박스는 네 부분(영역)으로 이루어짐\n",
    "    content / padding / border / margin\n",
    "\n",
    "    (margin/padding) shorthand를 통해서 표현 가능\n",
    "    1개 쓰면 전체 적용\n",
    "    2개 쓰면 상하 / 좌우 (십자가 모양)\n",
    "    3개 쓰면 상 / 좌우 / 하 (나누기 모양)\n",
    "    4개 쓰면 상단부터 시계방향 적용\n",
    "[Box-sizing]\n",
    "    \n",
    "    box-sizing은 기본적으로 content-box\n",
    "    다만, 우리가 일반적으로 영역을 볼 때는  border까지의 너비를 100px 보는 것을 원함\n",
    "    그 경우 border-box로 box-sizing 속성을 주면 됨\n",
    "    content-box : 58px, padding까지 : 98px, border까지 : 100px\n",
    "\n"
   ]
  },
  {
   "attachments": {},
   "cell_type": "markdown",
   "metadata": {},
   "source": [
    "[emmet : 자동완성] ! / link \n",
    "\n",
    "    HTML emmet\n",
    "- div.content : class가 \"content\"인 div태그\n",
    "- div#my : id가 \"my\"인 div태그 (*5 하면 5줄 생성)\n",
    "\n",
    "- div.my-content>p#test*5 : class가 \"content\"인 div태그에 id가 \"test\"인 p태그 5개 상속 ???\n",
    "\n",
    "- lorem + tab키 : 의미 없는 라틴어 문장 한단락 ????\n",
    "\n",
    "    > CSS emmet\n",
    "- margin-top: 10px;  ==>  mt10\n",
    "- margin-bottom: 10px;  ==>  mb10\n",
    "\n",
    "- padding-top: 10px;  ==>  pt10\n",
    "- padding-bottom: 10px;  ==>  pb10\n",
    "\n",
    "- width: 100px  ==>  w100\n",
    "- height: 100px ==>  h100"
   ]
  },
  {
   "attachments": {},
   "cell_type": "markdown",
   "metadata": {},
   "source": [
    "[CSS 원칙]\n",
    "2. display에 따라 크기와 배치가 달라진다.\n",
    "\n",
    "[CSS Display] 인라인/블록 요소\n",
    "- 블록 요소 특성 : 한 줄 전체를 다 차지하기 때문에 밑으로 쌓임\n",
    "                    ex) <div>\n",
    "- 인라인 요소 특성 : content만큼만 차지하고, 하나 더 추가하면 바로 옆에 붙음\n",
    "                    ex) <span>\n",
    "\n",
    "[대표적으로 활용되는 display]\n",
    "\n",
    "- display : block(블록)\n",
    "줄 바꿈이 일어나는 요소 (다른 elem를 밀어낸다!)\n",
    "화면 크기 전체의 가로 폭을 차지한다\n",
    "블록 레벨 요소 안에 인라인 레벨 요소가 들어갈 수 있음.\n",
    "\n",
    "- display : inline(인라인)\n",
    "줄 바꿈이 일어나지 않는 행의 일부 요소\n",
    "content 만큼만 가로 폭을 차지한다.\n",
    "==> width, height, margin-top/bottom을 지정할 수 없다.\n",
    "    상하 여백은 line-height로 지정 \n",
    "\n",
    "\n",
    "[block 실습]\n",
    "\n",
    "[수평 정렬]\n",
    "\n"
   ]
  },
  {
   "attachments": {},
   "cell_type": "markdown",
   "metadata": {},
   "source": [
    "[CSS Position]\n",
    "- static\n",
    "- relative\n",
    "- absolute\n",
    "- fixed\n",
    "- sticky"
   ]
  }
 ],
 "metadata": {
  "language_info": {
   "name": "python"
  },
  "orig_nbformat": 4
 },
 "nbformat": 4,
 "nbformat_minor": 2
}

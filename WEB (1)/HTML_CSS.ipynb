{
 "cells": [
  {
   "attachments": {},
   "cell_type": "markdown",
   "metadata": {},
   "source": [
    "WEB - HTML/CSS"
   ]
  },
  {
   "attachments": {},
   "cell_type": "markdown",
   "metadata": {},
   "source": [
    "# VS Code 자동 정렬 사용 권장 [ Alt + Shift + F ]\n",
    " - indent-rainbow : 들여쓰기 무지개 색깔로\n",
    " - Live Server 확장 프로그램 : HTML을 브라우저에서 바로 볼 수 있음\n",
    "\n",
    "# WEB 참고 사이트\n",
    " - MDN Web docs (공식문서)\n",
    " - W3Schools "
   ]
  },
  {
   "attachments": {},
   "cell_type": "markdown",
   "metadata": {},
   "source": [
    "웹 사이트 : 웹 페이지들의 모음 (링크를 통해 여러 웹 페이지를 연결한 것)\n",
    "    \n",
    "    [웹 사이트 구성요소]\n",
    "    HTML : 구조(레이아웃)  - 요소 나열\n",
    "    CSS : 표현(스타일링)\n",
    "    JS(JavaScript) : 동작(인터렉션)\n",
    "\n",
    "    [개발 환경 설정]\n",
    "    Visual Studio Code   "
   ]
  },
  {
   "attachments": {},
   "cell_type": "markdown",
   "metadata": {},
   "source": [
    "[HTML : Hyper Text Markup Language]\n",
    "\n",
    "Hyper Text : 참조(하이퍼링크)를 통해 사용자가 한 문서에서 다른 문서로 즉시 접근할 수 있는 텍스트\n",
    "Markup Language : 태그(<>) 등을 이용하여 문서나 데이터의 구조를 명시하는 언어\n",
    "                ex) HTML, Markdown\n",
    "\n",
    "==> HTML 이란 ? 웹 페이지를 구조화하기 위한 언어\n",
    "\n",
    "[WEB 참고 사이트]\n",
    "- MDN Web docs (공식문서)\n",
    "- W3Schools "
   ]
  },
  {
   "attachments": {},
   "cell_type": "markdown",
   "metadata": {},
   "source": [
    "[HTML 기본 구조]\n",
    "\n",
    "        <html> - 문서의 최상위 요소\n",
    "\n",
    "        <head> - 문서 메타데이터 요소(일반적으로 브라우저에 나타나지 않는 내용) \n",
    "                ex) <title> / <link> : 외부 리소스 연결(CSS파일 등) / <style> : CSS 직접 작성\n",
    "\n",
    "        <body> - 문서 본문 요소(실제 화면 구성과 관련)\n",
    "\n",
    "\n",
    "[HTML 요소] 태그와 내용으로 구성. 모든 내용을 태그로 감싸기\n",
    "\n",
    "(여는/시작)태그 <-- <h1>contents</h1> --> (닫는/종료)태그\n",
    "\n",
    "* 내용이 없는 태그들 - <br> : 줄바꿈, <hr> : 수평선\n",
    "* 요소는 중첩될 수 있음 (태그 안에 태그가 있을 수 있음)\n",
    "* 오류를 반환하지 않고 레이아웃이 깨진 상태로 출력되기 때문에 디버깅이 힘들어질 수 있음\n",
    "\n",
    "\n",
    "[HTML 속성] 태그 안쪽에 여러가지 옵션을 넣어줌\n",
    "        <a name=\"value\"></a>\n",
    "         (속성명)(속성값)\n",
    "        <a href=\"https://google.com\"></a>\n",
    "\n",
    "* 공백 없이 / \"\"(쌍따옴표) 사용!\n",
    "* 속성을 통해 태그의 부가적인 정보를 설정할 수 있음 ex) 앵커 태그(anchor tag) : a\n",
    "* 요소는 속성을 가질 수 있으며, 경로나 크기같은 추가적인 정보를 제공\n",
    "* 요소의 시작태그에 작성, 보통 이름과 값이 하나의 쌍으로 존재\n",
    "* HTML Global Attribute : 모든 HTML 요소가 공통으로 사용할 수 있는 대표적인 속성\n",
    "        id : 문서 전체에서 유일한 고유 식별자 지정 (한 개만)\n",
    "        class : 공백으로 구분된 해당 요소의 클래스의 목록 (중복 속성 가능)\n",
    "        style : inline 스타일 (사용 지양, 급한거만)"
   ]
  },
  {
   "attachments": {},
   "cell_type": "markdown",
   "metadata": {},
   "source": [
    "[HTML 실습] 38p\n",
    "주석 : <!-- 이것은 주석입니다. -->\n",
    "앵커태그(anchor tag) : <a> 하이퍼링크 만들 수 있는 태그\n",
    "    <a href=\"https://www.naver.com\">네이버로 이동!!</a>\n",
    "\n",
    "[HTML 문서 구조화]\n",
    "텍스트 요소 - <a> : 링크 이동, <i>, <em> : 기울임 글씨, <p></p> : 문단 하나, <h> : 수평선\n",
    "\n",
    "\n",
    "\n",
    "* 54p input albel\n",
    "\n",
    "    체크박스가 작으니까 글자(label)만 클릭해도 입력할 수 있도록 ???\n",
    "    <label for=\"agreement\">개인정보 수집에 동의합니다.</label>\n",
    "    <input type=\"checkbox\" name=\"agreement\" id=\"agreement\">\n",
    "    ==> for ~~ 과 id ~~~ 연동되도록 설정\n",
    "\n",
    "\n",
    "    마크업 해보기\n",
    "        구조\n",
    "        1. header\n",
    "        2. section : 웹 페이지 내용\n",
    "        3. footer : 웹 페이지 하단 추가정보 (연락처, 오시는 길 등)\n",
    "\n",
    "\n",
    "* 65p 꼭 직접해보기\n",
    "* 66p 라디오 버튼 꼭 !\n"
   ]
  },
  {
   "attachments": {},
   "cell_type": "markdown",
   "metadata": {},
   "source": [
    "[HTML]\n",
    "\n",
    "\n",
    "\n",
    "\n",
    "\n"
   ]
  },
  {
   "attachments": {},
   "cell_type": "markdown",
   "metadata": {},
   "source": [
    "[CSS : Cascading Style Sheets] 스타일을 지정하기 위한 언어"
   ]
  },
  {
   "attachments": {},
   "cell_type": "markdown",
   "metadata": {},
   "source": [
    "[CSS 구문]\n",
    "h1{\n",
    "    color: blue;\n",
    "    font-size: 15px;\n",
    "}\n",
    "\n",
    "\n",
    "* \n",
    "* \n",
    "* \n",
    "\n",
    "\n",
    "[CSS 정의 방법 3가지]\n",
    "1. 인라인 : 스타일을 태그에 바로 지정\n",
    "2. 내부참조 : <head> 태그 내에 <style>에 지정\n",
    "3. 외부참조 : 외부에 CSS 파일을 따로 만들어서 분리하고 <head> 내 <link>를 통해 불러오기\n",
    "    * 같은 위치에 있는지 확인 필요\n",
    "    <link rel=\"stylesheet\" href=\"mystyle.css\">\n",
    "\n",
    "[CSS with 개발자 도구] 크롬 F12\n",
    "\n",
    "    styles(스타일 탭) : 이전 적용 내용까지 ( 줄그어진거는 우선순위에 의해 지워진거 ) \n",
    "    computed(계산됨 탭) : 최종적으로 적용 되어 있는 CSS\n"
   ]
  },
  {
   "attachments": {},
   "cell_type": "markdown",
   "metadata": {},
   "source": [
    "[CSS Selectors] 선택자 유형\n",
    "\n",
    "- 전체 선택자 (* {})\n",
    "- 요소 선택자 : HTML 태그를 직접 선택\n",
    "- 클래스(class) 선택자 (.class_name{}) : 다중으로\n",
    "- 아이디(id) 선택자 (#id_name{}) : 1번만 사용\n",
    "\n",
    "\n",
    "* 88p [vscode에서 CSS Selectors 선택자 직접 입력해보기] 왼) HTML 오) CSS\n",
    "\n",
    "<style>\n",
    "/* 클래스 선택자 */\n",
    ".green {\n",
    "\n",
    "}\n",
    "\n",
    "/* id 선택자 */\n",
    "#purple {\n",
    "\n",
    "}\n",
    "\n",
    "/* 자식 결합자 */\n",
    ".box > p {\n",
    "\n",
    "}\n",
    "\n",
    "/* 자손 결합자 */\n",
    ".box p {\n",
    "\n",
    "}\n",
    "</style>\n",
    "\n",
    "\n",
    "\n",
    "[CSS 적용 우선순위]\n",
    "\n",
    "    !important (사용시 주의) > 인라인 > id > class 속성 > 요소\n",
    "    [QUIZ 91p - 왼) HTML 오) CSS]\n",
    "1. orange\n",
    "2. blue (p 태그지만 class 우선순위가 더 높음)\n",
    "\n",
    "* 3. green (class 2개지만 뒤에꺼 선택)\n",
    "* 4. green \n",
    "==> HTML 컬러 순서 중요 X, CSS의 순서대로 나중꺼 선택\n",
    "\n",
    "5. red (우선순위 id가 높음) \n",
    "6. dark violet (!important인 h2가 우선순위)\n",
    "7. yellow (인라인으로 스타일 적용되어 있음 - style = )\n",
    "* 8. dark violet (!important인 h2가 우선순위)\n",
    "\n",
    "\n",
    "[CSS 상속] 부모 요소의 속성을 자식에게 상속\n",
    "* \" 속성(프로퍼티) 중에서는 상속이 되는 것과 되지 않는 것들이 있다. \"\n"
   ]
  },
  {
   "attachments": {},
   "cell_type": "markdown",
   "metadata": {},
   "source": [
    "<과제> [간단 프로필 페이지 만들기]\n"
   ]
  }
 ],
 "metadata": {
  "language_info": {
   "name": "python"
  },
  "orig_nbformat": 4
 },
 "nbformat": 4,
 "nbformat_minor": 2
}

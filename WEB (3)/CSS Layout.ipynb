{
 "cells": [
  {
   "attachments": {},
   "cell_type": "markdown",
   "metadata": {},
   "source": [
    "CSS Layout"
   ]
  },
  {
   "attachments": {},
   "cell_type": "markdown",
   "metadata": {},
   "source": [
    "[Float]\n",
    "\n",
    "> HTML\n",
    "    <div class=\"box left\"></div>\n",
    "\n",
    "> CSS\n",
    "    .left {\n",
    "        float: left;\n",
    "    }"
   ]
  },
  {
   "attachments": {},
   "cell_type": "markdown",
   "metadata": {},
   "source": [
    "[Flexbox]\n",
    "Layout에 특화된 기능\n",
    "Float, inline-block 에 비해 간편함\n",
    "컨테이너 안에 item들이 담아져 있다\n",
    "\n",
    "(absolute를 주면 normal flow를 벗어날 수 있었다 ???)\n",
    "\n",
    "\n",
    "[CSS Flexible Box Layout]\n",
    "\n",
    "* 축 : main axis(메인 축) / cross axis(교차 축)\n",
    "* 구성요소 : Flex Container(부모 요소) / Flex Item(자식 요소)\n",
    "\n",
    "> CSS\n",
    "    .container {\n",
    "        display: flex;\n",
    "    }\n",
    "\n",
    "    .item {\n",
    "    width: 100px;\n",
    "    height: 100px;\n",
    "    background-color: black;\n",
    "\n",
    "    margin-top: 10px;\n",
    "    margin-right: 20px;\n",
    "    }\n",
    "\n",
    "\n",
    "만약 각각의 아이템이 저마다 높이가 다르다면? Flex가 자동으로 맞춰줘서 Layout 배치가 쉬워진다!"
   ]
  },
  {
   "attachments": {},
   "cell_type": "markdown",
   "metadata": {},
   "source": [
    "[Flex 속성] 부모요소가 중요함!\n",
    "\n",
    "1. 배치 설정\n",
    "\n",
    "# flex-direction\n",
    "    row / row-reverse / column / column-reverse\n",
    "\n",
    "# flex-wrap : 줄넘김\n",
    "    wrap / nowrap\n",
    "\n",
    "\n",
    "\n",
    "2. 정렬\n",
    "\n",
    "# align-items (모든 아이템 교차축 기준 정렬)\n",
    "기본값(stretch)은 교차축 기준으로 세로로 쭉 늘려주고\n",
    "flex-start는 시작축을 기준으로 위에 붙음\n",
    "* stretch 사용 시 height 값을 설정하면 안된다.\n",
    "\n",
    "\n",
    "# align-self (개별 아이템 교차축 기준 정렬)\n",
    "* 아이템들 정렬하려면 컨테이너 안에서 ex) align-items: stretch\n",
    "\n",
    "\n",
    "\n",
    "3. 공간 배분\n",
    "\n",
    "# justify-content (메인축 기준)\n",
    "\n",
    "# align-content (교차축 기준)\n",
    "* 아이템이 한 줄로 배치되는 경우 확인할 수 없음\n",
    "\n",
    "align-content: ;\n",
    "* flex-wrap: warp 해야 작동 (첫번째 박스 범위를 벗어날 수 있기 때문)\n",
    "\n",
    "\n",
    "\n",
    "4. 기타 속성\n",
    "\n",
    "# flex-grow (남은 영역을 아이템에 분배)\n",
    "\n",
    "# order (배치 순서)"
   ]
  }
 ],
 "metadata": {
  "language_info": {
   "name": "python"
  },
  "orig_nbformat": 4
 },
 "nbformat": 4,
 "nbformat_minor": 2
}
